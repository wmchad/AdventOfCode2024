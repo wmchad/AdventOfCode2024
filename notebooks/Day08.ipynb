{
 "cells": [
  {
   "cell_type": "markdown",
   "id": "c3affa71-5d2b-42c4-9c92-b9080ba38077",
   "metadata": {},
   "source": [
    "# Advent of Code Day 8 - Resonant Collinearity\n",
    "\n",
    "You find yourselves on the roof of a top-secret Easter Bunny installation.\n",
    "\n",
    "While The Historians do their thing, you take a look at the familiar huge antenna. Much to your surprise, it seems to have been reconfigured to emit a signal that makes people 0.1% more likely to buy Easter Bunny brand Imitation Mediocre Chocolate as a Christmas gift! Unthinkable!\n",
    "\n",
    "Scanning across the city, you find that there are actually many such antennas. Each antenna is tuned to a specific frequency indicated by a single lowercase letter, uppercase letter, or digit. You create a map (your puzzle input) of these antennas. For example:\n",
    "\n",
    "```\n",
    "............\n",
    "........0...\n",
    ".....0......\n",
    ".......0....\n",
    "....0.......\n",
    "......A.....\n",
    "............\n",
    "............\n",
    "........A...\n",
    ".........A..\n",
    "............\n",
    "............\n",
    "```\n",
    "\n",
    "The signal only applies its nefarious effect at specific antinodes based on the resonant frequencies of the antennas. In particular, an antinode occurs at any point that is perfectly in line with two antennas of the same frequency - but only when one of the antennas is twice as far away as the other. This means that for any pair of antennas with the same frequency, there are two antinodes, one on either side of them.\n",
    "\n",
    "So, for these two antennas with frequency a, they create the two antinodes marked with #:\n",
    "\n",
    "```\n",
    "..........\n",
    "...#......\n",
    "..........\n",
    "....a.....\n",
    "..........\n",
    ".....a....\n",
    "..........\n",
    "......#...\n",
    "..........\n",
    "..........\n",
    "```\n",
    "\n",
    "Adding a third antenna with the same frequency creates several more antinodes. It would ideally add four antinodes, but two are off the right side of the map, so instead it adds only two:\n",
    "\n",
    "```\n",
    "..........\n",
    "...#......\n",
    "#.........\n",
    "....a.....\n",
    "........a.\n",
    ".....a....\n",
    "..#.......\n",
    "......#...\n",
    "..........\n",
    "..........\n",
    "```\n",
    "\n",
    "Antennas with different frequencies don't create antinodes; A and a count as different frequencies. However, antinodes can occur at locations that contain antennas. In this diagram, the lone antenna with frequency capital A creates no antinodes but has a lowercase-a-frequency antinode at its location:\n",
    "\n",
    "```\n",
    "..........\n",
    "...#......\n",
    "#.........\n",
    "....a.....\n",
    "........a.\n",
    ".....a....\n",
    "..#.......\n",
    "......A...\n",
    "..........\n",
    "..........\n",
    "```\n",
    "\n",
    "The first example has antennas with two different frequencies, so the antinodes they create look like this, plus an antinode overlapping the topmost A-frequency antenna:\n",
    "\n",
    "```\n",
    "......#....#\n",
    "...#....0...\n",
    "....#0....#.\n",
    "..#....0....\n",
    "....0....#..\n",
    ".#....A.....\n",
    "...#........\n",
    "#......#....\n",
    "........A...\n",
    ".........A..\n",
    "..........#.\n",
    "..........#.\n",
    "```\n",
    "\n",
    "Because the topmost A-frequency antenna overlaps with a 0-frequency antinode, there are 14 total unique locations that contain an antinode within the bounds of the map.\n",
    "\n",
    "Calculate the impact of the signal. How many unique locations within the bounds of the map contain an antinode?\n",
    "\n",
    "### Testing"
   ]
  },
  {
   "cell_type": "code",
   "execution_count": 53,
   "id": "c7e5554d-815d-416d-a4a9-70441aa1dde7",
   "metadata": {},
   "outputs": [
    {
     "name": "stdout",
     "output_type": "stream",
     "text": [
      "ParseAntennaMapString() passed testing.\n",
      "GetAntinodeLocations() passed testing.\n"
     ]
    }
   ],
   "source": [
    "%run ../src/day08.py\n",
    "TestParseAntennaMapString()\n",
    "TestGetAntinodeLocations()"
   ]
  },
  {
   "cell_type": "markdown",
   "id": "fb924d36-0842-4b89-8643-25329de7dc8c",
   "metadata": {},
   "source": [
    "### Data Preparation"
   ]
  },
  {
   "cell_type": "code",
   "execution_count": 42,
   "id": "f84c50ab-05af-49b0-8c1b-ba97d2a8149f",
   "metadata": {},
   "outputs": [],
   "source": [
    "input_file       = open(\"../input/day08_input.txt\")\n",
    "parsed_map = ParseAntennaMapString(input_file.read())"
   ]
  },
  {
   "cell_type": "markdown",
   "id": "46232a5b-dd60-4750-9946-99f0ebe930c7",
   "metadata": {},
   "source": [
    "### Part 1 Solution\n",
    "\n",
    "Using `GetAntinodeLocations()` to find the unique resonant locations on the map."
   ]
  },
  {
   "cell_type": "code",
   "execution_count": 45,
   "id": "065f2708-0bf2-47e3-8355-8386cfbd18b9",
   "metadata": {},
   "outputs": [
    {
     "name": "stdout",
     "output_type": "stream",
     "text": [
      "There are 348 unique resonant locations on the map.\n"
     ]
    }
   ],
   "source": [
    "resonant_locations = GetAntinodeLocations(parsed_map)\n",
    "print(f'There are {len(resonant_locations)} unique resonant locations on the map.')"
   ]
  },
  {
   "cell_type": "markdown",
   "id": "8e412f7e-e2bb-4c2a-aef0-b101e31be8cc",
   "metadata": {},
   "source": [
    "## Part 2\n",
    "\n",
    "Watching over your shoulder as you work, one of The Historians asks if you took the effects of resonant harmonics into your calculations.\n",
    "\n",
    "Whoops!\n",
    "\n",
    "After updating your model, it turns out that an antinode occurs at any grid position exactly in line with at least two antennas of the same frequency, regardless of distance. This means that some of the new antinodes will occur at the position of each antenna (unless that antenna is the only one of its frequency).\n",
    "\n",
    "So, these three T-frequency antennas now create many antinodes:\n",
    "\n",
    "```\n",
    "T....#....\n",
    "...T......\n",
    ".T....#...\n",
    ".........#\n",
    "..#.......\n",
    "..........\n",
    "...#......\n",
    "..........\n",
    "....#.....\n",
    "..........\n",
    "```\n",
    "\n",
    "In fact, the three T-frequency antennas are all exactly in line with two antennas, so they are all also antinodes! This brings the total number of antinodes in the above example to 9.\n",
    "\n",
    "The original example now has 34 antinodes, including the antinodes that appear on every antenna:\n",
    "\n",
    "```\n",
    "##....#....#\n",
    ".#.#....0...\n",
    "..#.#0....#.\n",
    "..##...0....\n",
    "....0....#..\n",
    ".#...#A....#\n",
    "...#..#.....\n",
    "#....#.#....\n",
    "..#.....A...\n",
    "....#....A..\n",
    ".#........#.\n",
    "...#......##\n",
    "```\n",
    "\n",
    "Calculate the impact of the signal using this updated model. How many unique locations within the bounds of the map contain an antinode?\n",
    "\n",
    "### Testing"
   ]
  },
  {
   "cell_type": "code",
   "execution_count": 54,
   "id": "7e262460-c44b-4f60-a986-88fc672dd660",
   "metadata": {},
   "outputs": [
    {
     "name": "stdout",
     "output_type": "stream",
     "text": [
      "GetAntinodeLocationsWithResonantHarmonics() passed testing.\n"
     ]
    }
   ],
   "source": [
    "TestGetAntinodeLocationsWithResonantHarmonics()"
   ]
  },
  {
   "cell_type": "markdown",
   "id": "4ffa611c-130b-4144-9f63-8bbabb98c93b",
   "metadata": {},
   "source": [
    "### Part 2 Solution\n",
    "\n",
    "Using `TestGetAntinodeLocationsWithResonantHarmonics()` to find the updated list of antinodes."
   ]
  },
  {
   "cell_type": "code",
   "execution_count": 56,
   "id": "88a95bab-1333-46c7-b3fc-0a29ded93d07",
   "metadata": {},
   "outputs": [
    {
     "name": "stdout",
     "output_type": "stream",
     "text": [
      "There are 1221 antinodes when including resonant harmonics.\n"
     ]
    }
   ],
   "source": [
    "n_resonant_harmonics_antinodes = GetAntinodeLocationsWithResonantHarmonics(parsed_map)\n",
    "print(f'There are {len(n_resonant_harmonics_antinodes)} antinodes when including resonant harmonics.')"
   ]
  }
 ],
 "metadata": {
  "kernelspec": {
   "display_name": "Python 3 (ipykernel)",
   "language": "python",
   "name": "python3"
  },
  "language_info": {
   "codemirror_mode": {
    "name": "ipython",
    "version": 3
   },
   "file_extension": ".py",
   "mimetype": "text/x-python",
   "name": "python",
   "nbconvert_exporter": "python",
   "pygments_lexer": "ipython3",
   "version": "3.12.4"
  }
 },
 "nbformat": 4,
 "nbformat_minor": 5
}
