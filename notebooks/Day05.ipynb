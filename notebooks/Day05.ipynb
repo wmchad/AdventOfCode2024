{
 "cells": [
  {
   "cell_type": "markdown",
   "id": "a68cbb48-5429-43bf-bb43-0b048a66ea4c",
   "metadata": {},
   "source": [
    "# Advent of Code Day 5 - Print Queue\n",
    "\n",
    "Satisfied with their search on Ceres, the squadron of scholars suggests subsequently scanning the stationery stacks of sub-basement 17.\n",
    "\n",
    "The North Pole printing department is busier than ever this close to Christmas, and while The Historians continue their search of this historically significant facility, an Elf operating a very familiar printer beckons you over.\n",
    "\n",
    "The Elf must recognize you, because they waste no time explaining that the new sleigh launch safety manual updates won't print correctly. Failure to update the safety manuals would be dire indeed, so you offer your services.\n",
    "\n",
    "Safety protocols clearly indicate that new pages for the safety manuals must be printed in a very specific order. The notation X|Y means that if both page number X and page number Y are to be produced as part of an update, page number X must be printed at some point before page number Y.\n",
    "\n",
    "The Elf has for you both the page ordering rules and the pages to produce in each update (your puzzle input), but can't figure out whether each update has the pages in the right order.\n",
    "\n",
    "For example:\n",
    "\n",
    "```\n",
    "47|53\n",
    "97|13\n",
    "97|61\n",
    "97|47\n",
    "75|29\n",
    "61|13\n",
    "75|53\n",
    "29|13\n",
    "97|29\n",
    "53|29\n",
    "61|53\n",
    "97|53\n",
    "61|29\n",
    "47|13\n",
    "75|47\n",
    "97|75\n",
    "47|61\n",
    "75|61\n",
    "47|29\n",
    "75|13\n",
    "53|13\n",
    "\n",
    "75,47,61,53,29\n",
    "97,61,53,29,13\n",
    "75,29,13\n",
    "75,97,47,61,53\n",
    "61,13,29\n",
    "97,13,75,29,47\n",
    "```\n",
    "\n",
    "The first section specifies the page ordering rules, one per line. The first rule, 47|53, means that if an update includes both page number 47 and page number 53, then page number 47 must be printed at some point before page number 53. (47 doesn't necessarily need to be immediately before 53; other pages are allowed to be between them.)\n",
    "\n",
    "The second section specifies the page numbers of each update. Because most safety manuals are different, the pages needed in the updates are different too. The first update, 75,47,61,53,29, means that the update consists of page numbers 75, 47, 61, 53, and 29.\n",
    "\n",
    "To get the printers going as soon as possible, start by identifying which updates are already in the right order.\n",
    "\n",
    "In the above example, the first update (75,47,61,53,29) is in the right order:\n",
    "\n",
    "75 is correctly first because there are rules that put each other page after it: 75|47, 75|61, 75|53, and 75|29.\n",
    "47 is correctly second because 75 must be before it (75|47) and every other page must be after it according to 47|61, 47|53, and 47|29.\n",
    "61 is correctly in the middle because 75 and 47 are before it (75|61 and 47|61) and 53 and 29 are after it (61|53 and 61|29).\n",
    "53 is correctly fourth because it is before page number 29 (53|29).\n",
    "29 is the only page left and so is correctly last.\n",
    "Because the first update does not include some page numbers, the ordering rules involving those missing page numbers are ignored.\n",
    "\n",
    "The second and third updates are also in the correct order according to the rules. Like the first update, they also do not include every page number, and so only some of the ordering rules apply - within each update, the ordering rules that involve missing page numbers are not used.\n",
    "\n",
    "The fourth update, 75,97,47,61,53, is not in the correct order: it would print 75 before 97, which violates the rule 97|75.\n",
    "\n",
    "The fifth update, 61,13,29, is also not in the correct order, since it breaks the rule 29|13.\n",
    "\n",
    "The last update, 97,13,75,29,47, is not in the correct order due to breaking several rules.\n",
    "\n",
    "For some reason, the Elves also need to know the middle page number of each update being printed. Because you are currently only printing the correctly-ordered updates, you will need to find the middle page number of each correctly-ordered update. In the above example, the correctly-ordered updates are:\n",
    "\n",
    "75,47,61,53,29\n",
    "97,61,53,29,13\n",
    "75,29,13\n",
    "These have middle page numbers of 61, 53, and 29 respectively. Adding these page numbers together gives 143.\n",
    "\n",
    "Of course, you'll need to be careful: the actual list of page ordering rules is bigger and more complicated than the above example.\n",
    "\n",
    "Determine which updates are already in the correct order. What do you get if you add up the middle page number from those correctly-ordered updates?\n",
    "\n",
    "### Testing"
   ]
  },
  {
   "cell_type": "code",
   "execution_count": 64,
   "id": "a8796ab1-86c0-4a45-a4c3-932df80c572b",
   "metadata": {},
   "outputs": [],
   "source": [
    "%run ../src/day05.py\n",
    "TestProcessInputData()\n",
    "TestQueuePassesRules()\n",
    "TestGetMiddlePageNumbersOfPassingQueues()"
   ]
  },
  {
   "cell_type": "markdown",
   "id": "ac357e66-2ac1-44de-8335-0416b7cddf43",
   "metadata": {},
   "source": [
    "### Data Preparation"
   ]
  },
  {
   "cell_type": "code",
   "execution_count": 51,
   "id": "1da53f31-a0a4-49c3-bfbf-f8dd7a2ea3e0",
   "metadata": {},
   "outputs": [],
   "source": [
    "input_file = open(\"../input/day05_input.txt\")\n",
    "input_data = ProcessInputData(input_file.read())"
   ]
  },
  {
   "cell_type": "markdown",
   "id": "5bb25305-c0b4-456d-b6e5-7517f396f7cc",
   "metadata": {},
   "source": [
    "### Part 1 Solution\n",
    "\n",
    "Using `GetMiddlePageNumbersOfPassingQueues()` to find all the good print queues."
   ]
  },
  {
   "cell_type": "code",
   "execution_count": 53,
   "id": "07f7a549-e88f-4f2b-8d72-15d238326f75",
   "metadata": {},
   "outputs": [
    {
     "name": "stdout",
     "output_type": "stream",
     "text": [
      "The sum of the middle page numbers is 5087\n"
     ]
    }
   ],
   "source": [
    "middle_pages = GetMiddlePageNumbersOfPassingQueues(input_data[\"queues\"], input_data[\"rules\"])\n",
    "print(f'The sum of the middle page numbers is {sum(middle_pages)}')"
   ]
  },
  {
   "cell_type": "markdown",
   "id": "d367c1ef-eab0-4f63-b59c-df3f426b4798",
   "metadata": {},
   "source": [
    "## Part 2\n",
    "\n",
    "While the Elves get to work printing the correctly-ordered updates, you have a little time to fix the rest of them.\n",
    "\n",
    "For each of the incorrectly-ordered updates, use the page ordering rules to put the page numbers in the right order. For the above example, here are the three incorrectly-ordered updates and their correct orderings:\n",
    "\n",
    "75,97,47,61,53 becomes 97,75,47,61,53.\n",
    "61,13,29 becomes 61,29,13.\n",
    "97,13,75,29,47 becomes 97,75,47,29,13.\n",
    "After taking only the incorrectly-ordered updates and ordering them correctly, their middle page numbers are 47, 29, and 47. Adding these together produces 123.\n",
    "\n",
    "Find the updates which are not in the correct order. What do you get if you add up the middle page numbers after correctly ordering just those updates?\n",
    "\n",
    "### Testing"
   ]
  },
  {
   "cell_type": "code",
   "execution_count": 65,
   "id": "cd2f13ec-ae15-421f-abeb-bd5e3d3a5d29",
   "metadata": {},
   "outputs": [],
   "source": [
    "TestCorrectedQueue()"
   ]
  },
  {
   "cell_type": "markdown",
   "id": "ad294a21-3814-442c-a9d8-4a096d2e77b5",
   "metadata": {},
   "source": [
    "### Part 2 Solution\n",
    "\n",
    "Using `CorrectedQueues()` to get the corrected queues."
   ]
  },
  {
   "cell_type": "code",
   "execution_count": 68,
   "id": "75b927cb-1c55-4541-8cce-ee3546352ca3",
   "metadata": {},
   "outputs": [
    {
     "name": "stdout",
     "output_type": "stream",
     "text": [
      "The sum of the corrected middle page numbers is 4971\n"
     ]
    }
   ],
   "source": [
    "all_middle_pages = GetMiddlePageNumbersOfPassingQueues(\n",
    "    [CorrectedQueue(x, input_data['rules']) for x in input_data['queues']],\n",
    "    input_data['rules']\n",
    ")\n",
    "print(f'The sum of the corrected middle page numbers is {sum(all_middle_pages) - sum(middle_pages)}')"
   ]
  }
 ],
 "metadata": {
  "kernelspec": {
   "display_name": "Python 3 (ipykernel)",
   "language": "python",
   "name": "python3"
  },
  "language_info": {
   "codemirror_mode": {
    "name": "ipython",
    "version": 3
   },
   "file_extension": ".py",
   "mimetype": "text/x-python",
   "name": "python",
   "nbconvert_exporter": "python",
   "pygments_lexer": "ipython3",
   "version": "3.12.4"
  }
 },
 "nbformat": 4,
 "nbformat_minor": 5
}
