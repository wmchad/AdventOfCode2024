{
 "cells": [
  {
   "cell_type": "markdown",
   "id": "554ab0d4-8748-48ab-8df9-7f3408a257f5",
   "metadata": {},
   "source": [
    "# Advent of Code Day 7 - Bridge Repair\n",
    "\n",
    "The Historians take you to a familiar rope bridge over a river in the middle of a jungle. The Chief isn't on this side of the bridge, though; maybe he's on the other side?\n",
    "\n",
    "When you go to cross the bridge, you notice a group of engineers trying to repair it. (Apparently, it breaks pretty frequently.) You won't be able to cross until it's fixed.\n",
    "\n",
    "You ask how long it'll take; the engineers tell you that it only needs final calibrations, but some young elephants were playing nearby and stole all the operators from their calibration equations! They could finish the calibrations if only someone could determine which test values could possibly be produced by placing any combination of operators into their calibration equations (your puzzle input).\n",
    "\n",
    "For example:\n",
    "\n",
    "```\n",
    "190: 10 19\n",
    "3267: 81 40 27\n",
    "83: 17 5\n",
    "156: 15 6\n",
    "7290: 6 8 6 15\n",
    "161011: 16 10 13\n",
    "192: 17 8 14\n",
    "21037: 9 7 18 13\n",
    "292: 11 6 16 20\n",
    "```\n",
    "\n",
    "Each line represents a single equation. The test value appears before the colon on each line; it is your job to determine whether the remaining numbers can be combined with operators to produce the test value.\n",
    "\n",
    "Operators are always evaluated left-to-right, not according to precedence rules. Furthermore, numbers in the equations cannot be rearranged. Glancing into the jungle, you can see elephants holding two different types of operators: add (`+`) and multiply (`*`).\n",
    "\n",
    "Only three of the above equations can be made true by inserting operators:\n",
    "\n",
    "* `190: 10 19` has only one position that accepts an operator: between 10 and 19. Choosing + would give 29, but choosing * would give the test value (10 * 19 = 190).\n",
    "* `3267: 81 40 27` has two positions for operators. Of the four possible configurations of the operators, two cause the right side to match the test value: 81 + 40 * 27 and 81 * 40 + 27 both equal 3267 (when evaluated left-to-right)!\n",
    "* `292: 11 6 16 20` can be solved in exactly one way: 11 + 6 * 16 + 20.\n",
    "The engineers just need the total calibration result, which is the sum of the test values from just the equations that could possibly be true. In the above example, the sum of the test values for the three equations listed above is 3749.\n",
    "\n",
    "Determine which equations could possibly be true. What is their total calibration result?\n",
    "\n",
    "### Testing"
   ]
  },
  {
   "cell_type": "code",
   "execution_count": 37,
   "id": "babf45b2-00c4-4404-b902-3eaee194f59a",
   "metadata": {},
   "outputs": [
    {
     "name": "stdout",
     "output_type": "stream",
     "text": [
      "ParseCalibrationLine() passed testing.\n",
      "ParseCalibrationData() passed testing.\n",
      "IsTargetCalculable() passed testing.\n"
     ]
    }
   ],
   "source": [
    "%run ../src/day07.py\n",
    "TestParseCalibrationLine()\n",
    "TestParseCalibrationData()\n",
    "TestIsTargetCalculable()"
   ]
  },
  {
   "cell_type": "markdown",
   "id": "9af6e070-3ee3-480e-b22c-98975dcf3ec9",
   "metadata": {},
   "source": [
    "### Data Preparation"
   ]
  },
  {
   "cell_type": "code",
   "execution_count": 32,
   "id": "2ce78cd9-59d6-4719-954e-4da612d04f9d",
   "metadata": {},
   "outputs": [],
   "source": [
    "input_file       = open(\"../input/day07_input.txt\")\n",
    "calibration_data = ParseCalibrationData(input_file.read())"
   ]
  },
  {
   "cell_type": "markdown",
   "id": "982cb10a-67f7-49d5-9099-8af352a1e843",
   "metadata": {},
   "source": [
    "### Part 1 Solution\n",
    "\n",
    "Using `IsTargetCalculable()` to find the calibration equations that can be solved."
   ]
  },
  {
   "cell_type": "code",
   "execution_count": 33,
   "id": "9f7cbb4f-2307-4827-bf25-bb3f3b09cdcb",
   "metadata": {},
   "outputs": [
    {
     "name": "stdout",
     "output_type": "stream",
     "text": [
      "The total calibration result is 303876485655.\n"
     ]
    }
   ],
   "source": [
    "solveable_targets = [x[\"target\"] for x in calibration_data if IsTargetCalculable(x[\"target\"], x[\"factors\"])]\n",
    "print(f\"The total calibration result is {sum(solveable_targets)}.\")"
   ]
  },
  {
   "cell_type": "markdown",
   "id": "2ab4c1e6-db09-4847-aa56-ea0a6f68f3a4",
   "metadata": {},
   "source": [
    "## Part 2\n",
    "\n",
    "The engineers seem concerned; the total calibration result you gave them is nowhere close to being within safety tolerances. Just then, you spot your mistake: some well-hidden elephants are holding a third type of operator.\n",
    "\n",
    "The concatenation operator (||) combines the digits from its left and right inputs into a single number. For example, 12 || 345 would become 12345. All operators are still evaluated left-to-right.\n",
    "\n",
    "Now, apart from the three equations that could be made true using only addition and multiplication, the above example has three more equations that can be made true by inserting operators:\n",
    "\n",
    "156: 15 6 can be made true through a single concatenation: 15 || 6 = 156.\n",
    "7290: 6 8 6 15 can be made true using 6 * 8 || 6 * 15.\n",
    "192: 17 8 14 can be made true using 17 || 8 + 14.\n",
    "Adding up all six test values (the three that could be made before using only + and * plus the new three that can now be made by also using ||) produces the new total calibration result of 11387.\n",
    "\n",
    "Using your new knowledge of elephant hiding spots, determine which equations could possibly be true. What is their total calibration result?\n",
    "\n",
    "### Testing"
   ]
  },
  {
   "cell_type": "code",
   "execution_count": 38,
   "id": "955c418e-27f5-453f-aef0-8a56f9852267",
   "metadata": {},
   "outputs": [
    {
     "name": "stdout",
     "output_type": "stream",
     "text": [
      "IsTargetCalculableWithConcatenation() passed testing.\n"
     ]
    }
   ],
   "source": [
    "TestIsTargetCalculableWithConcatenation()"
   ]
  },
  {
   "cell_type": "markdown",
   "id": "b6e1ef89-a36f-4763-98e3-849ebdff197b",
   "metadata": {},
   "source": [
    "### Part 2 Solution\n",
    "\n",
    "Using `IsTargetCalculableWithConcatenation()` to find the updated list of calibration equations that can be solved."
   ]
  },
  {
   "cell_type": "code",
   "execution_count": 39,
   "id": "8aa0c2dc-9d76-41d6-bcc0-91e5f96e5d05",
   "metadata": {},
   "outputs": [
    {
     "name": "stdout",
     "output_type": "stream",
     "text": [
      "The total calibration result is 146111650210682.\n"
     ]
    }
   ],
   "source": [
    "updated_solveable_targets = [x[\"target\"] for x in calibration_data if IsTargetCalculableWithConcatenation(x[\"target\"], x[\"factors\"])]\n",
    "print(f\"The total calibration result is {sum(updated_solveable_targets)}.\")"
   ]
  }
 ],
 "metadata": {
  "kernelspec": {
   "display_name": "Python 3 (ipykernel)",
   "language": "python",
   "name": "python3"
  },
  "language_info": {
   "codemirror_mode": {
    "name": "ipython",
    "version": 3
   },
   "file_extension": ".py",
   "mimetype": "text/x-python",
   "name": "python",
   "nbconvert_exporter": "python",
   "pygments_lexer": "ipython3",
   "version": "3.12.4"
  }
 },
 "nbformat": 4,
 "nbformat_minor": 5
}
