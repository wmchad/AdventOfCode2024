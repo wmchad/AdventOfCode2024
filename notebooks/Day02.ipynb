{
 "cells": [
  {
   "cell_type": "code",
   "execution_count": 19,
   "id": "cf08bd01-d22e-467b-80d6-8065368fdf12",
   "metadata": {},
   "outputs": [],
   "source": [
    "%run ../src/day02.py"
   ]
  },
  {
   "cell_type": "markdown",
   "id": "72c47218-cbdf-4b67-acea-3c3e18bddee7",
   "metadata": {},
   "source": [
    "# Advent of Code Day 2 - Red-Nosed Reports\n",
    "\n",
    "Fortunately, the first location The Historians want to search isn't a long walk from the Chief Historian's office.\n",
    "\n",
    "While the Red-Nosed Reindeer nuclear fusion/fission plant appears to contain no sign of the Chief Historian, the engineers there run up to you as soon as they see you. Apparently, they still talk about the time Rudolph was saved through molecular synthesis from a single electron.\n",
    "\n",
    "They're quick to add that - since you're already here - they'd really appreciate your help analyzing some unusual data from the Red-Nosed reactor. You turn to check if The Historians are waiting for you, but they seem to have already divided into groups that are currently searching every corner of the facility. You offer to help with the unusual data.\n",
    "\n",
    "The unusual data (your puzzle input) consists of many reports, one report per line. Each report is a list of numbers called levels that are separated by spaces. For example:\n",
    "\n",
    "```\n",
    "7 6 4 2 1\n",
    "1 2 7 8 9\n",
    "9 7 6 2 1\n",
    "1 3 2 4 5\n",
    "8 6 4 4 1\n",
    "1 3 6 7 9\n",
    "```\n",
    "\n",
    "This example data contains six reports each containing five levels.\n",
    "\n",
    "The engineers are trying to figure out which reports are safe. The Red-Nosed reactor safety systems can only tolerate levels that are either gradually increasing or gradually decreasing. So, a report only counts as safe if both of the following are true:\n",
    "\n",
    "The levels are either all increasing or all decreasing.\n",
    "Any two adjacent levels differ by at least one and at most three.\n",
    "In the example above, the reports can be found safe or unsafe by checking those rules:\n",
    "\n",
    "- `7 6 4 2 1`: Safe because the levels are all decreasing by 1 or 2.\n",
    "- `1 2 7 8 9`: Unsafe because 2 7 is an increase of 5.\n",
    "- `9 7 6 2 1`: Unsafe because 6 2 is a decrease of 4.\n",
    "- `1 3 2 4 5`: Unsafe because 1 3 is increasing but 3 2 is decreasing.\n",
    "- `8 6 4 4 1`: Unsafe because 4 4 is neither an increase or a decrease.\n",
    "- `1 3 6 7 9`: Safe because the levels are all increasing by 1, 2, or 3.\n",
    "\n",
    "So, in this example, 2 reports are safe.\n",
    "\n",
    "Analyze the unusual data from the engineers. How many reports are safe?\n",
    "\n",
    "### Testing"
   ]
  },
  {
   "cell_type": "code",
   "execution_count": 14,
   "id": "4704d222-b211-429e-9a8b-39c2281456a8",
   "metadata": {},
   "outputs": [],
   "source": [
    "TestIsReportSafe()"
   ]
  },
  {
   "cell_type": "markdown",
   "id": "a6198dfb-36a5-49a9-bfd5-8c89d1f61198",
   "metadata": {},
   "source": [
    "### Data Preparation"
   ]
  },
  {
   "cell_type": "code",
   "execution_count": 8,
   "id": "e21c6b5c-9b0c-41b9-808e-7587b7d264c0",
   "metadata": {},
   "outputs": [
    {
     "data": {
      "text/plain": [
       "[[75, 76, 77, 80, 82, 85, 84],\n",
       " [49, 52, 53, 55, 58, 59, 61, 61],\n",
       " [54, 57, 60, 62, 66],\n",
       " [4, 6, 8, 10, 11, 14, 19],\n",
       " [82, 85, 86, 83, 85, 87, 89]]"
      ]
     },
     "execution_count": 8,
     "metadata": {},
     "output_type": "execute_result"
    }
   ],
   "source": [
    "input_file = open(\"../input/day02_input.txt\")\n",
    "input_lines = input_file.readlines()\n",
    "reports = [list(map(int, x.strip().split())) for x in input_lines]\n",
    "reports[:5]"
   ]
  },
  {
   "cell_type": "markdown",
   "id": "d4bf6c85-9a2a-47db-a37d-250781a3cd6a",
   "metadata": {},
   "source": [
    "### Part 1 Solution\n",
    "\n",
    "Use the `IsReportSafe` function to count safe reports."
   ]
  },
  {
   "cell_type": "code",
   "execution_count": 16,
   "id": "c55e4e9a-a042-45b5-aae6-ae03819ed765",
   "metadata": {},
   "outputs": [
    {
     "name": "stdout",
     "output_type": "stream",
     "text": [
      "The number of safe reports is 479.\n"
     ]
    }
   ],
   "source": [
    "report_safety = [IsReportSafe(np.array(report)) for report in reports]\n",
    "n_safe_reports = sum(report_safety)\n",
    "print(f'The number of safe reports is {n_safe_reports}.')"
   ]
  },
  {
   "cell_type": "markdown",
   "id": "9970b097-5bbb-419c-9344-fb19be24edf8",
   "metadata": {},
   "source": [
    "## Part 2\n",
    "\n",
    "The engineers are surprised by the low number of safe reports until they realize they forgot to tell you about the Problem Dampener.\n",
    "\n",
    "The Problem Dampener is a reactor-mounted module that lets the reactor safety systems tolerate a single bad level in what would otherwise be a safe report. It's like the bad level never happened!\n",
    "\n",
    "Now, the same rules apply as before, except if removing a single level from an unsafe report would make it safe, the report instead counts as safe.\n",
    "\n",
    "More of the above example's reports are now safe:\n",
    "\n",
    "- `7 6 4 2 1`: Safe without removing any level.\n",
    "- `1 2 7 8 9`: Unsafe regardless of which level is removed.\n",
    "- `9 7 6 2 1`: Unsafe regardless of which level is removed.\n",
    "- `1 3 2 4 5`: Safe by removing the second level, 3.\n",
    "- `8 6 4 4 1`: Safe by removing the third level, 4.\n",
    "- `1 3 6 7 9`: Safe without removing any level.\n",
    "\n",
    "Thanks to the Problem Dampener, 4 reports are actually safe!\n",
    "\n",
    "Update your analysis by handling situations where the Problem Dampener can remove a single level from unsafe reports. How many reports are now safe?"
   ]
  },
  {
   "cell_type": "markdown",
   "id": "e7ba9240-d1b9-4863-acb1-a5dce8ef81a9",
   "metadata": {},
   "source": [
    "### Testing"
   ]
  },
  {
   "cell_type": "code",
   "execution_count": 20,
   "id": "9550c32f-a0e7-4477-b9de-e96ea3350bac",
   "metadata": {},
   "outputs": [],
   "source": [
    "TestIsDampenedReportSafe()"
   ]
  },
  {
   "cell_type": "markdown",
   "id": "f72202ec-1d72-4972-a75d-8ed52d7bf90d",
   "metadata": {},
   "source": [
    "### Part 2 Solution"
   ]
  },
  {
   "cell_type": "code",
   "execution_count": 21,
   "id": "298fe4b4-1722-41c4-8fb5-6b4285794f23",
   "metadata": {},
   "outputs": [
    {
     "name": "stdout",
     "output_type": "stream",
     "text": [
      "The number of safe reports after dampening is 531.\n"
     ]
    }
   ],
   "source": [
    "dampened_report_safety = [IsDampenedReportSafe(np.array(report)) for report in reports]\n",
    "n_safe_dampened_reports = sum(dampened_report_safety)\n",
    "print(f'The number of safe reports after dampening is {n_safe_dampened_reports}.')"
   ]
  }
 ],
 "metadata": {
  "kernelspec": {
   "display_name": "Python 3 (ipykernel)",
   "language": "python",
   "name": "python3"
  },
  "language_info": {
   "codemirror_mode": {
    "name": "ipython",
    "version": 3
   },
   "file_extension": ".py",
   "mimetype": "text/x-python",
   "name": "python",
   "nbconvert_exporter": "python",
   "pygments_lexer": "ipython3",
   "version": "3.12.4"
  }
 },
 "nbformat": 4,
 "nbformat_minor": 5
}
