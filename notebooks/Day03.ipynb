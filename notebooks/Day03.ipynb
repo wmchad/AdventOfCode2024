{
 "cells": [
  {
   "cell_type": "code",
   "execution_count": 51,
   "id": "032f04b4-1550-4034-a301-c2746446edfd",
   "metadata": {},
   "outputs": [],
   "source": [
    "%run ../src/day03.py"
   ]
  },
  {
   "cell_type": "markdown",
   "id": "bab726e4-1431-4e62-84e9-e2e30b20e334",
   "metadata": {},
   "source": [
    "# Advent of Code Day 3 - Mull it Over\n",
    "\n",
    "\"Our computers are having issues, so I have no idea if we have any Chief Historians in stock! You're welcome to check the warehouse, though,\" says the mildly flustered shopkeeper at the North Pole Toboggan Rental Shop. The Historians head out to take a look.\n",
    "\n",
    "The shopkeeper turns to you. \"Any chance you can see why our computers are having issues again?\"\n",
    "\n",
    "The computer appears to be trying to run a program, but its memory (your puzzle input) is corrupted. All of the instructions have been jumbled up!\n",
    "\n",
    "It seems like the goal of the program is just to multiply some numbers. It does that with instructions like `mul(X,Y)`, where `X` and `Y` are each 1-3 digit numbers. For instance, `mul(44,46)` multiplies `44` by `46` to get a result of 2024. Similarly, `mul(123,4)` would multiply `123` by `4`.\n",
    "\n",
    "However, because the program's memory has been corrupted, there are also many invalid characters that should be ignored, even if they look like part of a mul instruction. Sequences like `mul(4*`, `mul(6,9!`, `?(12,34)`, or `mul ( 2 , 4 )` do nothing.\n",
    "\n",
    "For example, consider the following section of corrupted memory:\n",
    "\n",
    "*`xmul(2,4)`*`%&mul[3,7]!@^do_not_`*`mul(5,5)`*`+mul(32,64]then(`*`mul(11,8)mul(8,5)`*`)`\n",
    "\n",
    "Only the four italic sections are real mul instructions. Adding up the result of each instruction produces `161` `(2*4 + 5*5 + 11*8 + 8*5)`.\n",
    "\n",
    "Scan the corrupted memory for uncorrupted mul instructions. What do you get if you add up all of the results of the multiplications?\n",
    "\n",
    "### Testing"
   ]
  },
  {
   "cell_type": "code",
   "execution_count": 14,
   "id": "20b072f1-7973-4e4f-bb61-2e69cc7e85e3",
   "metadata": {},
   "outputs": [],
   "source": [
    "TestFindAndCalculateMuls()"
   ]
  },
  {
   "cell_type": "markdown",
   "id": "60f2eb8c-aa9e-43ae-8d0f-adfb7c7f9106",
   "metadata": {},
   "source": [
    "### Data Preparation"
   ]
  },
  {
   "cell_type": "code",
   "execution_count": 16,
   "id": "fc95f99a-73e7-40a7-82ac-6d038b5f835a",
   "metadata": {},
   "outputs": [],
   "source": [
    "input_file = open(\"../input/day03_input.txt\")\n",
    "input_lines = input_file.readlines()"
   ]
  },
  {
   "cell_type": "markdown",
   "id": "032b88c1-9cb3-40ee-93d8-832ec3d5ace7",
   "metadata": {},
   "source": [
    "### Part 1 Solution\n",
    "\n",
    "Using `FindAndCalculateMuls` to get all the multiplication results, then summing."
   ]
  },
  {
   "cell_type": "code",
   "execution_count": 18,
   "id": "9eb31792-8014-4dfb-ae97-e7e67e8c76e0",
   "metadata": {},
   "outputs": [
    {
     "name": "stdout",
     "output_type": "stream",
     "text": [
      "The sum of all valid mul instructions is 159833790.\n"
     ]
    }
   ],
   "source": [
    "full_sum = sum([FindAndCalculateMuls(x).sum() for x in input_lines])\n",
    "print(f'The sum of all valid mul instructions is {full_sum}.')"
   ]
  },
  {
   "cell_type": "markdown",
   "id": "d4f0409e-48bc-41b8-8545-e66b89a5ac23",
   "metadata": {},
   "source": [
    "## Part 2\n",
    "\n",
    "As you scan through the corrupted memory, you notice that some of the conditional statements are also still intact. If you handle some of the uncorrupted conditional statements in the program, you might be able to get an even more accurate result.\n",
    "\n",
    "There are two new instructions you'll need to handle:\n",
    "\n",
    "The `do()` instruction enables future `mul` instructions.\n",
    "The `don't()` instruction disables future `mul` instructions.\n",
    "Only the most recent `do()` or `don't()` instruction applies. At the beginning of the program, `mul` instructions are enabled.\n",
    "\n",
    "For example:\n",
    "\n",
    "`xmul(2,4)&mul[3,7]!^don't()_mul(5,5)+mul(32,64](mul(11,8)undo()?mul(8,5))`\n",
    "\n",
    "This corrupted memory is similar to the example from before, but this time the `mul(5,5)` and `mul(11,8)` instructions are disabled because there is a `don't()` instruction before them. The other `mul` instructions function normally, including the one at the end that gets re-enabled by a `do()` instruction.\n",
    "\n",
    "This time, the sum of the results is `48` (`2*4 + 8*5`).\n",
    "\n",
    "Handle the new instructions; what do you get if you add up all of the results of just the enabled multiplications?\n",
    "\n",
    "### Testing"
   ]
  },
  {
   "cell_type": "code",
   "execution_count": 52,
   "id": "2f1042ee-d824-4ee1-8eb1-cd760d86f422",
   "metadata": {},
   "outputs": [],
   "source": [
    "TestFindAndCalculateMulsWithCmds()"
   ]
  },
  {
   "cell_type": "markdown",
   "id": "f1c04370-08bc-4c42-bbf9-078b83d12ef7",
   "metadata": {},
   "source": [
    "### Part 2 Solution\n",
    "\n",
    "Using `FindAndCalculateMulsWithCmds` to get all the useable multiplication results, then summing."
   ]
  },
  {
   "cell_type": "code",
   "execution_count": 54,
   "id": "88c8a369-1418-4117-be44-9da3a837b409",
   "metadata": {},
   "outputs": [
    {
     "name": "stdout",
     "output_type": "stream",
     "text": [
      "The sum of all useable mul instructions is 89349241.\n"
     ]
    }
   ],
   "source": [
    "useable_sum = 0\n",
    "include_first = True\n",
    "for x in input_lines:\n",
    "    muls, include_first = FindAndCalculateMulsWithCmds(x, include_first)\n",
    "    useable_sum += sum(muls)\n",
    "print(f'The sum of all useable mul instructions is {useable_sum}.')"
   ]
  }
 ],
 "metadata": {
  "kernelspec": {
   "display_name": "Python 3 (ipykernel)",
   "language": "python",
   "name": "python3"
  },
  "language_info": {
   "codemirror_mode": {
    "name": "ipython",
    "version": 3
   },
   "file_extension": ".py",
   "mimetype": "text/x-python",
   "name": "python",
   "nbconvert_exporter": "python",
   "pygments_lexer": "ipython3",
   "version": "3.12.4"
  }
 },
 "nbformat": 4,
 "nbformat_minor": 5
}
