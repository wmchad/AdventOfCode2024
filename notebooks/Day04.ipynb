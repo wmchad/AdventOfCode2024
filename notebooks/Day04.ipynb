{
 "cells": [
  {
   "cell_type": "code",
   "execution_count": 80,
   "id": "62df8010-ba43-4fbd-ad8f-476a6244a579",
   "metadata": {},
   "outputs": [],
   "source": [
    "%run ../src/day04.py"
   ]
  },
  {
   "cell_type": "markdown",
   "id": "34203da4-b227-450d-a8e2-e8d899236085",
   "metadata": {},
   "source": [
    "# Advent of Code Day 4 - Ceres Search\n",
    "\n",
    "\"Looks like the Chief's not here. Next!\" One of The Historians pulls out a device and pushes the only button on it. After a brief flash, you recognize the interior of the Ceres monitoring station!\n",
    "\n",
    "As the search for the Chief continues, a small Elf who lives on the station tugs on your shirt; she'd like to know if you could help her with her word search (your puzzle input). She only has to find one word: XMAS.\n",
    "\n",
    "This word search allows words to be horizontal, vertical, diagonal, written backwards, or even overlapping other words. It's a little unusual, though, as you don't merely need to find one instance of XMAS - you need to find all of them. Here are a few ways XMAS might appear, where irrelevant characters have been replaced with .:\n",
    "\n",
    "```\n",
    "..X...\n",
    ".SAMX.\n",
    ".A..A.\n",
    "XMAS.S\n",
    ".X....\n",
    "```\n",
    "\n",
    "The actual word search will be full of letters instead. For example:\n",
    "\n",
    "```\n",
    "MMMSXXMASM\n",
    "MSAMXMSMSA\n",
    "AMXSXMAAMM\n",
    "MSAMASMSMX\n",
    "XMASAMXAMM\n",
    "XXAMMXXAMA\n",
    "SMSMSASXSS\n",
    "SAXAMASAAA\n",
    "MAMMMXMMMM\n",
    "MXMXAXMASX\n",
    "```\n",
    "\n",
    "In this word search, XMAS occurs a total of 18 times; here's the same word search again, but where letters not involved in any XMAS have been replaced with .:\n",
    "\n",
    "```\n",
    "....XXMAS.\n",
    ".SAMXMS...\n",
    "...S..A...\n",
    "..A.A.MS.X\n",
    "XMASAMX.MM\n",
    "X.....XA.A\n",
    "S.S.S.S.SS\n",
    ".A.A.A.A.A\n",
    "..M.M.M.MM\n",
    ".X.X.XMASX\n",
    "```\n",
    "\n",
    "Take a look at the little Elf's word search. How many times does XMAS appear?\n",
    "\n",
    "### Testing"
   ]
  },
  {
   "cell_type": "code",
   "execution_count": 61,
   "id": "11999131-a718-4467-9bb2-1d4440c2d02e",
   "metadata": {},
   "outputs": [],
   "source": [
    "TestCountXmas()"
   ]
  },
  {
   "cell_type": "markdown",
   "id": "38290d57-1829-43e4-adc2-da5e271af552",
   "metadata": {},
   "source": [
    "### Data Preparation"
   ]
  },
  {
   "cell_type": "code",
   "execution_count": 64,
   "id": "c2180ab9-6b3b-4965-9d25-df06c61a9600",
   "metadata": {},
   "outputs": [],
   "source": [
    "input_file = open(\"../input/day04_input.txt\")\n",
    "input_lines = input_file.readlines()\n",
    "word_search = np.char.array([list(line.strip()) for line in input_lines])"
   ]
  },
  {
   "cell_type": "markdown",
   "id": "be5112aa-1175-4154-95b6-a7111d2dff61",
   "metadata": {},
   "source": [
    "### Part 1 Solution\n",
    "\n",
    "Using `CountXmas` to find the number of times 'XMAS' appears in the word search."
   ]
  },
  {
   "cell_type": "code",
   "execution_count": 65,
   "id": "41a39de1-ec29-4e2f-8e39-f7f7619b0aff",
   "metadata": {},
   "outputs": [
    {
     "name": "stdout",
     "output_type": "stream",
     "text": [
      "'XMAS' appears 2406 times in the word search.\n"
     ]
    }
   ],
   "source": [
    "xmas_count = CountXmas(word_search)\n",
    "print(f\"'XMAS' appears {xmas_count} times in the word search.\")"
   ]
  },
  {
   "cell_type": "markdown",
   "id": "b122d65d-d8cd-4642-b824-77970d19a89c",
   "metadata": {},
   "source": [
    "## Part 2\n",
    "\n",
    "The Elf looks quizzically at you. Did you misunderstand the assignment?\n",
    "\n",
    "Looking for the instructions, you flip over the word search to find that this isn't actually an XMAS puzzle; it's an X-MAS puzzle in which you're supposed to find two MAS in the shape of an X. One way to achieve that is like this:\n",
    "\n",
    "```\n",
    "M.S\n",
    ".A.\n",
    "M.S\n",
    "```\n",
    "\n",
    "Irrelevant characters have again been replaced with . in the above diagram. Within the X, each MAS can be written forwards or backwards.\n",
    "\n",
    "Here's the same example from before, but this time all of the X-MASes have been kept instead:\n",
    "\n",
    "```\n",
    ".M.S......\n",
    "..A..MSMS.\n",
    ".M.S.MAA..\n",
    "..A.ASMSM.\n",
    ".M.S.M....\n",
    "..........\n",
    "S.S.S.S.S.\n",
    ".A.A.A.A..\n",
    "M.M.M.M.M.\n",
    "..........\n",
    "```\n",
    "\n",
    "In this example, an X-MAS appears 9 times.\n",
    "\n",
    "Flip the word search from the instructions back over to the word search side and try again. How many times does an X-MAS appear?\n",
    "\n",
    "### Testing"
   ]
  },
  {
   "cell_type": "code",
   "execution_count": 82,
   "id": "67fe1083-21a5-4673-998c-97b83336b934",
   "metadata": {},
   "outputs": [],
   "source": [
    "TestCountMasX()"
   ]
  },
  {
   "cell_type": "markdown",
   "id": "3e3dfe54-eb81-459c-8bd9-dd43b88a714b",
   "metadata": {},
   "source": [
    "### Part 2 Solution\n",
    "\n",
    "Using `CountMasX` to fin"
   ]
  }
 ],
 "metadata": {
  "kernelspec": {
   "display_name": "Python 3 (ipykernel)",
   "language": "python",
   "name": "python3"
  },
  "language_info": {
   "codemirror_mode": {
    "name": "ipython",
    "version": 3
   },
   "file_extension": ".py",
   "mimetype": "text/x-python",
   "name": "python",
   "nbconvert_exporter": "python",
   "pygments_lexer": "ipython3",
   "version": "3.12.4"
  }
 },
 "nbformat": 4,
 "nbformat_minor": 5
}
