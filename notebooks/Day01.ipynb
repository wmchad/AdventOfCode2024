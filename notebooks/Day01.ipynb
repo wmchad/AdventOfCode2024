{
 "cells": [
  {
   "cell_type": "code",
   "execution_count": 54,
   "id": "a0b54f17-1953-4b50-a6f1-a978bb109d44",
   "metadata": {},
   "outputs": [],
   "source": [
    "%run ../src/day01.py"
   ]
  },
  {
   "cell_type": "markdown",
   "id": "813b4898-3c8d-47b7-a1f7-a97f967c2fb2",
   "metadata": {},
   "source": [
    "# Advent of Code Day 1 - Historian Hysteria\n",
    "\n",
    "The Chief Historian is always present for the big Christmas sleigh launch, but nobody has seen him in months! Last anyone heard, he was visiting locations that are historically significant to the North Pole; a group of Senior Historians has asked you to accompany them as they check the places they think he was most likely to visit.\n",
    "\n",
    "As each location is checked, they will mark it on their list with a star. They figure the Chief Historian must be in one of the first fifty places they'll look, so in order to save Christmas, you need to help them get fifty stars on their list before Santa takes off on December 25th.\n",
    "\n",
    "Collect stars by solving puzzles. Two puzzles will be made available on each day in the Advent calendar; the second puzzle is unlocked when you complete the first. Each puzzle grants one star. Good luck!\n",
    "\n",
    "You haven't even left yet and the group of Elvish Senior Historians has already hit a problem: their list of locations to check is currently empty. Eventually, someone decides that the best place to check first would be the Chief Historian's office.\n",
    "\n",
    "Upon pouring into the office, everyone confirms that the Chief Historian is indeed nowhere to be found. Instead, the Elves discover an assortment of notes and lists of historically significant locations! This seems to be the planning the Chief Historian was doing before he left. Perhaps these notes can be used to determine which locations to search?\n",
    "\n",
    "Throughout the Chief's office, the historically significant locations are listed not by name but by a unique number called the location ID. To make sure they don't miss anything, The Historians split into two groups, each searching the office and trying to create their own complete list of location IDs.\n",
    "\n",
    "There's just one problem: by holding the two lists up side by side (your puzzle input), it quickly becomes clear that the lists aren't very similar. Maybe you can help The Historians reconcile their lists?\n",
    "\n",
    "For example:\n",
    "\n",
    "```\n",
    "3   4\n",
    "4   3\n",
    "2   5\n",
    "1   3\n",
    "3   9\n",
    "3   3\n",
    "```\n",
    "\n",
    "Maybe the lists are only off by a small amount! To find out, pair up the numbers and measure how far apart they are. Pair up the smallest number in the left list with the smallest number in the right list, then the second-smallest left number with the second-smallest right number, and so on.\n",
    "\n",
    "Within each pair, figure out how far apart the two numbers are; you'll need to add up all of those distances. For example, if you pair up a 3 from the left list with a 7 from the right list, the distance apart is 4; if you pair up a 9 with a 3, the distance apart is 6.\n",
    "\n",
    "In the example list above, the pairs and distances would be as follows:\n",
    "\n",
    "The smallest number in the left list is 1, and the smallest number in the right list is 3. The distance between them is 2.\n",
    "The second-smallest number in the left list is 2, and the second-smallest number in the right list is another 3. The distance between them is 1.\n",
    "The third-smallest number in both lists is 3, so the distance between them is 0.\n",
    "The next numbers to pair up are 3 and 4, a distance of 1.\n",
    "The fifth-smallest numbers in each list are 3 and 5, a distance of 2.\n",
    "Finally, the largest number in the left list is 4, while the largest number in the right list is 9; these are a distance 5 apart.\n",
    "To find the total distance between the left list and the right list, add up the distances between all of the pairs you found. In the example above, this is 2 + 1 + 0 + 1 + 2 + 5, a total distance of 11!\n",
    "\n",
    "Your actual left and right lists contain many location IDs. What is the total distance between your lists?\n",
    "\n",
    "### Testing"
   ]
  },
  {
   "cell_type": "code",
   "execution_count": 49,
   "id": "2496094e-f16d-4bf4-b8b5-94560c647729",
   "metadata": {},
   "outputs": [],
   "source": [
    "TestListDistance()"
   ]
  },
  {
   "cell_type": "markdown",
   "id": "969dc4a1-aff0-4e29-82d5-2792f40d3ae6",
   "metadata": {},
   "source": [
    "### Data Preparation"
   ]
  },
  {
   "cell_type": "code",
   "execution_count": 10,
   "id": "81cf8fa9-e657-4962-94ce-55fcf52299fb",
   "metadata": {},
   "outputs": [
    {
     "data": {
      "text/plain": [
       "array([[18102, 93258],\n",
       "       [34171, 50404],\n",
       "       [48236, 60718],\n",
       "       ...,\n",
       "       [90763, 45873],\n",
       "       [13117, 44089],\n",
       "       [13363, 84471]])"
      ]
     },
     "execution_count": 10,
     "metadata": {},
     "output_type": "execute_result"
    }
   ],
   "source": [
    "input_file = open(\"../input/day01_input.txt\")\n",
    "input_lines = input_file.readlines()\n",
    "location_lists = np.array([x.strip().split() for x in input_lines], dtype = int)\n",
    "location_lists"
   ]
  },
  {
   "cell_type": "markdown",
   "id": "79153c80-834c-4946-8a8b-d50f06a04f2a",
   "metadata": {},
   "source": [
    "### Part 1 Solution\n",
    "\n",
    "Use the `ListDistance` function to calculate the total distance between the lists."
   ]
  },
  {
   "cell_type": "code",
   "execution_count": 50,
   "id": "8013d56a-cfef-4f01-8575-79c98ec3329b",
   "metadata": {},
   "outputs": [
    {
     "name": "stdout",
     "output_type": "stream",
     "text": [
      "The distance between the two lists is 2378066.\n"
     ]
    }
   ],
   "source": [
    "total_distance = ListDistance(location_lists[:, 0], location_lists[:, 1])\n",
    "print(f'The distance between the two lists is {total_distance}.')"
   ]
  },
  {
   "cell_type": "markdown",
   "id": "64bc9dcd-e493-4ca3-ba3f-9a003d0f64ac",
   "metadata": {},
   "source": [
    "## Part 2\n",
    "\n",
    "Your analysis only confirmed what everyone feared: the two lists of location IDs are indeed very different.\n",
    "\n",
    "Or are they?\n",
    "\n",
    "The Historians can't agree on which group made the mistakes or how to read most of the Chief's handwriting, but in the commotion you notice an interesting detail: a lot of location IDs appear in both lists! Maybe the other numbers aren't location IDs at all but rather misinterpreted handwriting.\n",
    "\n",
    "This time, you'll need to figure out exactly how often each number from the left list appears in the right list. Calculate a total similarity score by adding up each number in the left list after multiplying it by the number of times that number appears in the right list.\n",
    "\n",
    "Here are the same example lists again:\n",
    "\n",
    "```\n",
    "3   4\n",
    "4   3\n",
    "2   5\n",
    "1   3\n",
    "3   9\n",
    "3   3\n",
    "```\n",
    "\n",
    "For these example lists, here is the process of finding the similarity score:\n",
    "\n",
    "The first number in the left list is 3. It appears in the right list three times, so the similarity score increases by 3 * 3 = 9.\n",
    "The second number in the left list is 4. It appears in the right list once, so the similarity score increases by 4 * 1 = 4.\n",
    "The third number in the left list is 2. It does not appear in the right list, so the similarity score does not increase (2 * 0 = 0).\n",
    "The fourth number, 1, also does not appear in the right list.\n",
    "The fifth number, 3, appears in the right list three times; the similarity score increases by 9.\n",
    "The last number, 3, appears in the right list three times; the similarity score again increases by 9.\n",
    "So, for these example lists, the similarity score at the end of this process is 31 (9 + 4 + 0 + 0 + 9 + 9).\n",
    "\n",
    "Once again consider your left and right lists. What is their similarity score?\n",
    "\n",
    "### Testing"
   ]
  },
  {
   "cell_type": "code",
   "execution_count": 51,
   "id": "b8099391-4b95-4b77-be0d-bfc180f69e7d",
   "metadata": {},
   "outputs": [],
   "source": [
    "TestListSimilarityScore()"
   ]
  },
  {
   "cell_type": "markdown",
   "id": "575daf40-2872-4670-817e-554f2fb626be",
   "metadata": {},
   "source": [
    "### Part 2 Solution"
   ]
  },
  {
   "cell_type": "code",
   "execution_count": 53,
   "id": "00447882-4be8-4128-873d-9dad43658fad",
   "metadata": {},
   "outputs": [
    {
     "name": "stdout",
     "output_type": "stream",
     "text": [
      "The similarity score for the two lists is 18934359.\n"
     ]
    }
   ],
   "source": [
    "similarity_score = ListSimilarityScore(location_lists[:, 0], location_lists[:, 1])\n",
    "print(f'The similarity score for the two lists is {similarity_score}.')"
   ]
  }
 ],
 "metadata": {
  "kernelspec": {
   "display_name": "Python 3 (ipykernel)",
   "language": "python",
   "name": "python3"
  },
  "language_info": {
   "codemirror_mode": {
    "name": "ipython",
    "version": 3
   },
   "file_extension": ".py",
   "mimetype": "text/x-python",
   "name": "python",
   "nbconvert_exporter": "python",
   "pygments_lexer": "ipython3",
   "version": "3.12.4"
  }
 },
 "nbformat": 4,
 "nbformat_minor": 5
}
